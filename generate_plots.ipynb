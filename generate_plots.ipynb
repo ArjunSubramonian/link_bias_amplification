{
 "cells": [
  {
   "cell_type": "code",
   "execution_count": 5,
   "id": "2aeb11e5",
   "metadata": {},
   "outputs": [],
   "source": [
    "from os import environ\n",
    "from subprocess import call\n",
    "\n",
    "# for dn in ['Cora_ML', 'Cora', 'CiteSeer', 'PubMed', 'CS', 'Physics']:\n",
    "for dn in ['PubMed', 'Physics']:\n",
    "    for ct in ['sym']:\n",
    "        environ['dataset_name'] = dn\n",
    "        environ['conv_type'] = ct\n",
    "        \n",
    "        call([\"runipy\", \"preferential_attachment_experiments.ipynb\"])"
   ]
  },
  {
   "cell_type": "code",
   "execution_count": null,
   "id": "76396246",
   "metadata": {},
   "outputs": [],
   "source": []
  }
 ],
 "metadata": {
  "kernelspec": {
   "display_name": "Python 3",
   "language": "python",
   "name": "python3"
  },
  "language_info": {
   "codemirror_mode": {
    "name": "ipython",
    "version": 3
   },
   "file_extension": ".py",
   "mimetype": "text/x-python",
   "name": "python",
   "nbconvert_exporter": "python",
   "pygments_lexer": "ipython3",
   "version": "3.8.10"
  }
 },
 "nbformat": 4,
 "nbformat_minor": 5
}
