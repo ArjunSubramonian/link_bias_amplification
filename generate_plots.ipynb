{
 "cells": [
  {
   "cell_type": "code",
   "execution_count": null,
   "id": "cfdeb274",
   "metadata": {},
   "outputs": [],
   "source": [
    "from os import environ\n",
    "\n",
    "!jupyter nbconvert  --to script  \"preferential_attachment_experiments.ipynb\"\n",
    "!rm results.csv\n",
    "!touch results.csv\n",
    "\n",
    "for dn in ['Cora', 'CiteSeer', 'DBLP', 'PubMed', 'CS', 'Physics', 'LastFMAsia', 'DE', 'EN', 'FR']:\n",
    "    for ct in ['sym', 'rw']:\n",
    "        for nl in ['2', '4']:\n",
    "            if ct == 'rw' and nl == '4':\n",
    "                continue\n",
    "            \n",
    "            print(dn, ct, nl)\n",
    "            environ['dataset_name'] = dn\n",
    "            environ['conv_type'] = ct\n",
    "            environ['k'] = nl\n",
    "    \n",
    "            !python3 preferential_attachment_experiments.py\n",
    "        \n",
    "            print()"
   ]
  },
  {
   "cell_type": "code",
   "execution_count": null,
   "id": "cb219f00",
   "metadata": {},
   "outputs": [],
   "source": [
    "!tar -cvf plots.tar.gz ./plots"
   ]
  },
  {
   "cell_type": "code",
   "execution_count": null,
   "id": "b76ad1a3",
   "metadata": {},
   "outputs": [],
   "source": [
    "import pandas as pd\n",
    "\n",
    "results_df = pd.read_csv(\"results.csv\", names=[\"Dataset name\", \"NRMSE\", \"PCC\", \"Test AUC\"])\n",
    "for col in [\"NRMSE\", \"PCC\", \"Test AUC\"]:\n",
    "    results_df[col] = '$' + results_df[col].astype(str) + '$'\n",
    "    results_df[col] = results_df[col].str.replace('±', '\\pm')"
   ]
  },
  {
   "cell_type": "code",
   "execution_count": null,
   "id": "858bc667",
   "metadata": {},
   "outputs": [],
   "source": [
    "row_idxs = list(range(len(results_df)))\n",
    "\n",
    "for start in [0, 1, 2]:\n",
    "    subset = row_idxs[start::3]\n",
    "    subset_df = results_df.iloc[subset]\n",
    "    \n",
    "    if start in [0, 1]:\n",
    "        filter_type = '$\\\\Phi_s$'\n",
    "    else:\n",
    "        filter_type = '$\\\\Phi_r$'\n",
    "    \n",
    "    header = [\"\", '\\\\textbf{NRMSE} ($\\\\downarrow$)', \"\\\\textbf{PCC} ($\\\\uparrow$)\", filter_type + ' \\\\textbf{Test AUC} ($\\\\uparrow$)']\n",
    "    print(subset_df.to_latex(index=False, header=header, escape=False, column_format='lrrr'))"
   ]
  },
  {
   "cell_type": "code",
   "execution_count": null,
   "id": "7c0cc307",
   "metadata": {},
   "outputs": [],
   "source": []
  }
 ],
 "metadata": {
  "kernelspec": {
   "display_name": "Python 3",
   "language": "python",
   "name": "python3"
  },
  "language_info": {
   "codemirror_mode": {
    "name": "ipython",
    "version": 3
   },
   "file_extension": ".py",
   "mimetype": "text/x-python",
   "name": "python",
   "nbconvert_exporter": "python",
   "pygments_lexer": "ipython3",
   "version": "3.8.10"
  }
 },
 "nbformat": 4,
 "nbformat_minor": 5
}
