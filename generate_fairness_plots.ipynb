{
 "cells": [
  {
   "cell_type": "code",
   "execution_count": null,
   "id": "b697aa90",
   "metadata": {},
   "outputs": [],
   "source": [
    "from os import environ\n",
    "\n",
    "!jupyter nbconvert  --to script  \"preferential_attachment_experiments.ipynb\"\n",
    "!rm fairness_results.csv\n",
    "!touch fairness_results.csv\n",
    "\n",
    "for dn in [\"DBLPFairness\", \"NBA\", \"German\"]:\n",
    "    for fr in ['4.0', '2.0', '1.0', '0.0']:\n",
    "        \n",
    "        print(dn, fr)\n",
    "        environ['dataset_name'] = dn\n",
    "        environ['conv_type'] = 'sym'\n",
    "        environ['k'] = '2'\n",
    "        environ['fairness_regularizer'] = fr\n",
    "\n",
    "        !python3 preferential_attachment_experiments.py\n",
    "\n",
    "        print()"
   ]
  },
  {
   "cell_type": "code",
   "execution_count": null,
   "id": "44afcb93",
   "metadata": {},
   "outputs": [],
   "source": [
    "import pandas as pd\n",
    "\n",
    "results_df = pd.read_csv(\"fairness_results.csv\", names=[\"Dataset name\", \"lambda\", \"Fairness\", \"Test AUC\"])\n",
    "for col in [\"Fairness\", \"Test AUC\"]:\n",
    "    results_df[col] = '$' + results_df[col].astype(str) + '$'\n",
    "    results_df[col] = results_df[col].str.replace('±', '\\pm')"
   ]
  },
  {
   "cell_type": "code",
   "execution_count": null,
   "id": "8ec4d030",
   "metadata": {},
   "outputs": [],
   "source": [
    "header = [\"\", '$\\\\lambda_{\\\\text{fair}}$', \"${\\\\cal L}_{\\\\text{fair}}$ ($\\\\downarrow$)\", '\\\\textbf{Test AUC} ($\\\\uparrow$)']\n",
    "print(results_df.to_latex(index=False, header=header, escape=False, column_format='lrrr'))"
   ]
  },
  {
   "cell_type": "code",
   "execution_count": null,
   "id": "eb49f943",
   "metadata": {},
   "outputs": [],
   "source": []
  }
 ],
 "metadata": {
  "kernelspec": {
   "display_name": "Python 3",
   "language": "python",
   "name": "python3"
  },
  "language_info": {
   "codemirror_mode": {
    "name": "ipython",
    "version": 3
   },
   "file_extension": ".py",
   "mimetype": "text/x-python",
   "name": "python",
   "nbconvert_exporter": "python",
   "pygments_lexer": "ipython3",
   "version": "3.8.10"
  }
 },
 "nbformat": 4,
 "nbformat_minor": 5
}
